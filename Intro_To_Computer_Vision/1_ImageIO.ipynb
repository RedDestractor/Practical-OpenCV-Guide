{
 "cells": [
  {
   "cell_type": "code",
   "execution_count": null,
   "metadata": {
    "collapsed": true
   },
   "outputs": [],
   "source": [
    "import cv2\n",
    "import numpy as np\n",
    "from matplotlib import pyplot as plt"
   ]
  },
  {
   "cell_type": "markdown",
   "metadata": {},
   "source": [
    "## Reading/Loading an image\n",
    "Function: <b>`cv2.imread(image_path, flag)`</b>\n",
    "\n",
    "<u>Flags</u>:\n",
    "1. <b>cv2.IMREAD_COLOR</b> (default flag) - Loads a color image, neglecting any transparency.\n",
    "2. <b>cv2.IMREAD_GRAYSCALE</b> - Loads image in grayscale\n",
    "3. <b>cv2.IMREAD_UNCHANGED</b> - Loads color image without neglecting transparency. (won't be discussing)\n",
    "\n",
    "## Displaying an image\n",
    "Function: <b>`cv2.imshow(window_name, image)`</b>\n",
    "\n",
    "## Writing an image\n",
    "Function: <b>`cv2.imwrite(file_path, image)</b>"
   ]
  },
  {
   "cell_type": "code",
   "execution_count": null,
   "metadata": {},
   "outputs": [],
   "source": [
    "image_path = \"../resources/messi.jpg\"\n",
    "\n",
    "color_image = cv2.imread(image_path)  # no flag given, IMREAD_COLOR flag used by default\n",
    "cv2.imshow(\"color\", color_image)\n",
    "cv2.waitKey(0)  # keyboard hook that waits infinitely for a key stroke\n",
    "cv2.destroyWindow(\"color\")  # close the opencv window"
   ]
  },
  {
   "cell_type": "markdown",
   "metadata": {},
   "source": [
    "<img class=\"left\" src=\"../resources/messi.jpg\">"
   ]
  },
  {
   "cell_type": "code",
   "execution_count": null,
   "metadata": {
    "collapsed": true
   },
   "outputs": [],
   "source": [
    "gray_image = cv2.imread(image_path, cv2.IMREAD_GRAYSCALE)\n",
    "# cv2.imshow(\"gray\", gray_image)\n",
    "# cv2.waitKey(0)\n",
    "# cv2.destroyWindow(\"gray\")\n",
    "plt.imshow(gray_image, cmap=\"gray\")\n",
    "plt.show()\n",
    "\n",
    "cv2.imwrite(\"../resources/test_gray.jpg\", gray_image)"
   ]
  },
  {
   "cell_type": "markdown",
   "metadata": {},
   "source": [
    "### Image properties"
   ]
  },
  {
   "cell_type": "code",
   "execution_count": null,
   "metadata": {
    "collapsed": true
   },
   "outputs": [],
   "source": [
    "# Color vs Grayscale comparison\n",
    "\n",
    "print \"Colored\"\n",
    "print \"\\t\\tHeight: %d, Width: %d, Channels: %d\" % color_image.shape\n",
    "print \"\\t\\tNumer of pixels: %d\" % color_image.size\n",
    "\n",
    "print\n",
    "\n",
    "print \"Grayscale\"\n",
    "print \"\\t\\tHeight: %d, Width: %d\" % gray_image.shape\n",
    "print \"\\t\\tNumer of pixels: %d\" % gray_image.size"
   ]
  },
  {
   "cell_type": "markdown",
   "metadata": {},
   "source": [
    "## Accessing and modifying pixels"
   ]
  },
  {
   "cell_type": "code",
   "execution_count": null,
   "metadata": {
    "collapsed": true
   },
   "outputs": [],
   "source": [
    "pixel = color_image[100, 100]\n",
    "print pixel"
   ]
  },
  {
   "cell_type": "code",
   "execution_count": null,
   "metadata": {
    "collapsed": true
   },
   "outputs": [],
   "source": [
    "# Matplotlib uses RGB whereas CV uses BGR\n",
    "def inverted(image):\n",
    "    inv_image = np.zeros_like(image)\n",
    "    inv_image[:,:,0] = image[:,:,2]\n",
    "    inv_image[:,:,1] = image[:,:,1]\n",
    "    inv_image[:,:,2] = image[:,:,0]\n",
    "    return inv_image\n",
    "\n",
    "\n",
    "copy = np.copy(color_image)\n",
    "copy[100, 100] = [0, 0, 0]\n",
    "\n",
    "# To observe modification properly, let's modify a range of pixels\n",
    "for i in range(101):\n",
    "    for j in range(101):\n",
    "        copy[i, j] = [200, 0, 0]\n",
    "\n",
    "plt.imshow(inverted(copy))\n",
    "plt.show()"
   ]
  },
  {
   "cell_type": "code",
   "execution_count": null,
   "metadata": {
    "collapsed": true
   },
   "outputs": [],
   "source": [
    "# Now, let's try shifting a region of image around\n",
    "copy = np.copy(color_image)\n",
    "\n",
    "# Selecting a region\n",
    "region = copy[50:150, 50:150]\n",
    "plt.imshow(inverted(region))\n",
    "plt.show()"
   ]
  },
  {
   "cell_type": "code",
   "execution_count": null,
   "metadata": {
    "collapsed": true
   },
   "outputs": [],
   "source": [
    "# Copying the selected region over anohter region in the image\n",
    "copy[200:300, 200:300] = region\n",
    "plt.imshow(inverted(copy))\n",
    "plt.show()"
   ]
  },
  {
   "cell_type": "code",
   "execution_count": null,
   "metadata": {
    "collapsed": true
   },
   "outputs": [],
   "source": [
    "# Splitting and Merging pixels on basis of channels\n",
    "B, G, R = cv2.split(color_image)  # another way is B = color_image[:, :, 0]\n",
    "\n",
    "merged = cv2.merge((B, G, R))\n",
    "plt.imshow(inverted(merged))\n",
    "plt.show()"
   ]
  },
  {
   "cell_type": "code",
   "execution_count": null,
   "metadata": {
    "collapsed": true
   },
   "outputs": [],
   "source": [
    "# Removing color channels\n",
    "copy = np.copy(color_image)\n",
    "copy[:, :, 0] = 0  # Removed blue channel\n",
    "copy[:, :, 1] = 0  # Removed green channel\n",
    "\n",
    "plt.imshow(inverted(copy))\n",
    "plt.show()"
   ]
  }
 ],
 "metadata": {
  "kernelspec": {
   "display_name": "Python 2",
   "language": "python",
   "name": "python2"
  },
  "language_info": {
   "codemirror_mode": {
    "name": "ipython",
    "version": 2
   },
   "file_extension": ".py",
   "mimetype": "text/x-python",
   "name": "python",
   "nbconvert_exporter": "python",
   "pygments_lexer": "ipython2",
   "version": "2.7.12"
  }
 },
 "nbformat": 4,
 "nbformat_minor": 2
}
