{
 "cells": [
  {
   "cell_type": "code",
   "execution_count": null,
   "metadata": {
    "collapsed": true
   },
   "outputs": [],
   "source": [
    "import cv2\n",
    "import numpy as np\n",
    "from matplotlib import pyplot as plt"
   ]
  },
  {
   "cell_type": "markdown",
   "metadata": {},
   "source": [
    "## Contours and their detection\n",
    "Contours are nothing but continuous shapes/polygons in an image. It can be describe as a curve joining a set of continuous points along a boundary, having same color or intensity. Contours are useful in shape analysis and detecting objects in an image."
   ]
  },
  {
   "cell_type": "markdown",
   "metadata": {},
   "source": [
    "### Find Contours\n",
    "Function: <b>cv2.findContours(image, contour_retrieval_mode, contour_approximation_method)</b>"
   ]
  },
  {
   "cell_type": "code",
   "execution_count": null,
   "metadata": {
    "collapsed": true
   },
   "outputs": [],
   "source": [
    "# finding contours\n",
    "image = cv2.imread(\"../resources/messi.jpg\")\n",
    "gray = cv2.cvtColor(image, cv2.COLOR_BGR2GRAY)\n",
    "\n",
    "ret, thresh = cv2.threshold(gray, 127, 255, 0)\n",
    "\n",
    "contours, hierarchy = cv2.findContours(thresh, cv2.RETR_TREE, cv2.CHAIN_APPROX_SIMPLE)\n",
    "# each contour is (x, y) representing coordinates of boundary points"
   ]
  },
  {
   "cell_type": "markdown",
   "metadata": {},
   "source": [
    "### Draw Contours\n",
    "Function: <b>cv2.drawContours(image, contours, index_of_contour (-1 for drawing all), color, thickness)</b>"
   ]
  },
  {
   "cell_type": "code",
   "execution_count": null,
   "metadata": {},
   "outputs": [],
   "source": [
    "cv2.drawContours(image, contours, -1, (0, 0, 255), 3)\n",
    "\n",
    "plt.imshow(cv2.cvtColor(image, cv2.COLOR_BGR2RGB))\n",
    "plt.show()"
   ]
  },
  {
   "cell_type": "markdown",
   "metadata": {},
   "source": [
    "### Different Contour Approximation Methods\n",
    "1. <u>cv2.CHAIN_APPROX_NONE</u> - Returns all boundary points\n",
    "2. <u>cv2.CHAIN_APPROX_SIMPLE</u> - Removes redundant boundary points"
   ]
  },
  {
   "cell_type": "code",
   "execution_count": null,
   "metadata": {},
   "outputs": [],
   "source": [
    "image = cv2.imread('../resources/image.png')\n",
    "gray = cv2.cvtColor(image, cv2.COLOR_BGR2GRAY)\n",
    "\n",
    "contours1, hierarchy = cv2.findContours(gray, cv2.RETR_TREE, cv2.CHAIN_APPROX_NONE)\n",
    "contours2, hierarchy = cv2.findContours(gray, cv2.RETR_TREE, cv2.CHAIN_APPROX_SIMPLE)\n",
    "\n",
    "print len(contours1[0]), len(contours2[0])"
   ]
  },
  {
   "cell_type": "markdown",
   "metadata": {},
   "source": [
    "## Image Moment\n",
    "A certain particular weighted average(moment) of the image pixels' intensities. Useful to find area of object, centre of mass of object etc.\n",
    "\n",
    "Function: <b>cv2.moments(contour)</b>"
   ]
  },
  {
   "cell_type": "code",
   "execution_count": null,
   "metadata": {},
   "outputs": [],
   "source": [
    "# symmetrical image => theoritical centroid\n",
    "print \"Theoritical centroid: \", (image.shape[1]/2, image.shape[0]/2)\n",
    "\n",
    "contour = contours2[0]\n",
    "moment = cv2.moments(contour)\n",
    "# print moment\n",
    "\n",
    "# centroid => c_x = M10/M00, c_y = M01/M00\n",
    "centroid = moment['m10']/moment['m00'], moment['m01']/moment['m00']\n",
    "print \"Calculated centroid: \", centroid\n",
    "print\n",
    "\n",
    "# M00 => area\n",
    "print \"Area from contour coordinates: \", cv2.contourArea(contour)\n",
    "print \"Area from image moment: \", moment['m00']"
   ]
  },
  {
   "cell_type": "markdown",
   "metadata": {},
   "source": [
    "$$\\bar{x}\\text{ and }\\bar{y}\\text{ are components of centroid}$$\n",
    "\n",
    "### 1<sup>st</sup> order central moments\n",
    "$$\\mu_{00} = M_{00}$$\n",
    "$$\\mu_{01} = 0$$\n",
    "$$\\mu_{10} = 0$$\n",
    "\n",
    "### 2<sup>nd</sup> order central moments\n",
    "$$\\mu_{11} = M_{11} - \\bar{x}M_{01} = M_{11} - \\bar{y}M_{10}$$\n",
    "$$\\mu_{20} = M_{20} - \\bar{x}M_{10}$$\n",
    "$$\\mu_{02} = M_{02} - \\bar{y}M_{01}$$\n",
    "\n",
    "## Image Orientation\n",
    "$$\\mu_{20}' = \\mu_{20}/\\mu_{00} = M_{20}/M_{00} - \\bar{x}^2$$\n",
    "$$\\mu_{02}' = \\mu_{02}/\\mu_{00} = M_{02}/M_{00} - \\bar{y}^2$$\n",
    "$$\\mu_{11}' = \\mu_{11}/\\mu_{00} = M_{11}/M_{00} - \\bar{x}\\bar{y}$$\n",
    "\n",
    "<b><u>Covariance matrix</u></b>\n",
    "\n",
    "$$\\text{cov[ I(x,y) ]} = \\begin{bmatrix}\\mu_{20}' & \\mu_{11}' \\\\ \\mu_{11}' & \\mu_{02}'\\end{bmatrix}$$\n",
    "\n",
    "Eigenvectors of covariance matrix correspond to major and minor axis of image intensity.\n",
    "$$\\theta = \\frac{1}{2}\\arctan{\\frac{2\\mu_{11}'}{\\mu_{20}' - \\mu_{02}'}}$$"
   ]
  },
  {
   "cell_type": "code",
   "execution_count": null,
   "metadata": {},
   "outputs": [],
   "source": [
    "u20 = moment['m20']/moment['m00'] - centroid[0]**2\n",
    "u02 = moment['m02']/moment['m00'] - centroid[1]**2\n",
    "u11 = moment['m11']/moment['m00'] - centroid[0] * centroid[1]\n",
    "\n",
    "import math\n",
    "theta = 0.5 * math.atan((2 * u11) / (u20 - u02))\n",
    "print theta"
   ]
  },
  {
   "cell_type": "code",
   "execution_count": null,
   "metadata": {},
   "outputs": [],
   "source": [
    "# perimeter of contour\n",
    "perimeter_closed = cv2.arcLength(contour, True)\n",
    "perimeter_open = cv2.arcLength(contour, False)\n",
    "\n",
    "print perimeter_closed, perimeter_open"
   ]
  },
  {
   "cell_type": "markdown",
   "metadata": {},
   "source": [
    "### Contour Approximation\n",
    "It approximates a contour shape to another shape with less number of vertices. It uses Douglas-Peucker algorithm.\n",
    "<img src=\"../resources/algo.png\">\n",
    "\n",
    "Function: <b>cv2.approxPolyDP(contour, epsilon, True (for closed curve))</b>\n",
    "\n",
    "<u>epsilon</u> is the measure of accuracy, maximum distance from contour to approximated contour."
   ]
  },
  {
   "cell_type": "code",
   "execution_count": null,
   "metadata": {},
   "outputs": [],
   "source": [
    "image = cv2.imread('../resources/contour.png')\n",
    "image2 = np.copy(image)\n",
    "image3 = np.copy(image)\n",
    "image4 = np.copy(image)\n",
    "\n",
    "ret, thresh = cv2.threshold(cv2.cvtColor(image, cv2.COLOR_BGR2GRAY), 180, 255, 0)\n",
    "contours, hierarchy = cv2.findContours(thresh, cv2.RETR_TREE, cv2.CHAIN_APPROX_SIMPLE)\n",
    "contour = max(contours, key=cv2.contourArea)\n",
    "cv2.drawContours(image, [contour], 0, (255, 0, 0), 2)\n",
    "\n",
    "epsilon = 0.05 * cv2.arcLength(contour, True)\n",
    "approx = cv2.approxPolyDP(contour, epsilon, True)\n",
    "cv2.drawContours(image2, [approx], 0, (255, 0, 0), 2)\n",
    "\n",
    "epsilon = 0.02 * cv2.arcLength(contour, True)\n",
    "approx = cv2.approxPolyDP(contour, epsilon, True)\n",
    "cv2.drawContours(image3, [approx], 0, (255, 0, 0), 2)\n",
    "\n",
    "epsilon = 0.001 * cv2.arcLength(contour, True)\n",
    "approx = cv2.approxPolyDP(contour, epsilon, True)\n",
    "cv2.drawContours(image4, [approx], 0, (255, 0, 0), 2)\n",
    "\n",
    "fig = plt.figure()\n",
    "fig.set_size_inches(18, 10)\n",
    "\n",
    "fig.add_subplot(1, 4, 1)\n",
    "plt.imshow(image)\n",
    "\n",
    "fig.add_subplot(1, 4, 2)\n",
    "plt.imshow(image2)\n",
    "\n",
    "fig.add_subplot(1, 4, 3)\n",
    "plt.imshow(image3)\n",
    "\n",
    "fig.add_subplot(1, 4, 4)\n",
    "plt.imshow(image4)\n",
    "\n",
    "plt.show()"
   ]
  },
  {
   "cell_type": "code",
   "execution_count": null,
   "metadata": {
    "collapsed": true
   },
   "outputs": [],
   "source": [
    "image = cv2.imread('../resources/hand.jpg')\n",
    "gray = cv2.cvtColor(image, cv2.COLOR_BGR2GRAY)\n",
    "\n",
    "ret, thresh = cv2.threshold(gray, 200, 255, cv2.THRESH_BINARY_INV)\n",
    "\n",
    "contours, hierarchy = cv2.findContours(thresh, cv2.RETR_TREE, cv2.CHAIN_APPROX_SIMPLE)\n",
    "contour = max(contours, key=cv2.contourArea)\n",
    "# cv2.drawContours(image, [contour], 0, (0, 255, 0), 3)"
   ]
  },
  {
   "cell_type": "code",
   "execution_count": null,
   "metadata": {},
   "outputs": [],
   "source": [
    "image = cv2.imread('../resources/hand.jpg')\n",
    "\n",
    "# Bounding contours\n",
    "\n",
    "# 1. Straight Rectangle\n",
    "x, y, w, h = cv2.boundingRect(contour)\n",
    "cv2.rectangle(image, (x, y), (x + w, y + h), (0, 255, 0), 2)\n",
    "\n",
    "# 2. Rotated Rectangle\n",
    "rect = cv2.minAreaRect(contour)  # returns top-left (x,y), (width, height), angle of rotation\n",
    "box = np.int0(cv2.cv.BoxPoints(rect))\n",
    "cv2.drawContours(image, [box], 0, (0, 0, 255), 2)\n",
    "\n",
    "# 3. Enclosing Circle\n",
    "(x, y), radius = cv2.minEnclosingCircle(contour)\n",
    "center = int(x), int(y)\n",
    "radius = int(radius)\n",
    "cv2.circle(image, center, radius, (255, 255, 0), 2)\n",
    "\n",
    "# 4. Fitting Ellipse\n",
    "ellipse = cv2.fitEllipse(contour)\n",
    "cv2.ellipse(image, ellipse, (0, 255, 255), 2)\n",
    "\n",
    "# 5. Fitting Line\n",
    "rows, cols = image.shape[:2]\n",
    "[vx, vy, x, y] = cv2.fitLine(contour, cv2.cv.CV_DIST_L2, 0, 0.01, 0.01)  # returns normalized vectors vx, vy\n",
    "lefty = int((-x * vy / vx) + y)\n",
    "righty = int(((cols - x) * vy / vx) + y)\n",
    "cv2.line(image, (cols - 1, righty), (0, lefty), (0, 0, 0), 2)\n",
    "\n",
    "plt.imshow(image)\n",
    "plt.show()"
   ]
  },
  {
   "cell_type": "markdown",
   "metadata": {},
   "source": [
    "### Basic Contour Properties\n",
    "$$\\text{Aspect Ratio} = \\frac{\\text{Width of bounding Rect}}{\\text{Height of bounding Rect}}$$\n",
    "\n",
    "$$Extent = \\frac{\\text{Object Area}}{\\text{Bounding Rectangle Area}}$$\n",
    "\n",
    "$$Solidity = \\frac{\\text{Contour Area}}{\\text{Convex Hull Area}}$$\n",
    "\n",
    "$$\\text{Equivalent Diameter} = \\sqrt{\\frac{4 * \\text{Contour Area}}{\\pi}}$$"
   ]
  },
  {
   "cell_type": "code",
   "execution_count": null,
   "metadata": {},
   "outputs": [],
   "source": [
    "(x, y), (major_axis, minor_axis), angle = cv2.fitEllipse(contour)\n",
    "print \"Orientation: \", angle\n",
    "\n",
    "# highlight object\n",
    "mask = np.zeros(gray.shape, np.uint8)\n",
    "cv2.drawContours(mask, [contour], 0, 255, -1)\n",
    "pixels = cv2.findNonZero(mask)\n",
    "image = cv2.imread('../resources/hand.jpg')\n",
    "cv2.drawContours(image, pixels, -1, (255, 255, 0), 0)\n",
    "plt.imshow(image)\n",
    "plt.show()"
   ]
  },
  {
   "cell_type": "markdown",
   "metadata": {},
   "source": [
    "### Convex Hull and Defects\n",
    "Convex hull is a convex/bulged out envelope of a set of <b>X</b> points in space. Convexity Defects are deviation of the object from the convex hull.\n",
    "\n",
    "Function: <b>cv2.convexHull(points[, hull[, clockwise[, returnPoints])</b>\n",
    "- points - contours\n",
    "- hull - output\n",
    "- clockwise - Orientation flag. True => clockwise output convex hull\n",
    "- returnPoints - By default True. True => return coordinates of hull points, False => return indices of corresponding contour points"
   ]
  },
  {
   "cell_type": "code",
   "execution_count": null,
   "metadata": {},
   "outputs": [],
   "source": [
    "image = cv2.imread('../resources/hand2.jpg')\n",
    "gray = cv2.cvtColor(image, cv2.COLOR_BGR2GRAY)\n",
    "\n",
    "ret, thresh = cv2.threshold(gray, 230, 250, cv2.THRESH_BINARY_INV)\n",
    "\n",
    "contours, hierarchy = cv2.findContours(thresh, cv2.RETR_TREE, cv2.CHAIN_APPROX_SIMPLE)\n",
    "contour = contours[0]\n",
    "\n",
    "# hull = cv2.convexHull(contour)\n",
    "# cv2.drawContours(image, [hull], 0, (255, 0, 0), 3)\n",
    "\n",
    "defects = cv2.convexityDefects(contour, cv2.convexHull(contour, returnPoints=False))\n",
    "for i in range(defects.shape[0]):\n",
    "    s, e, f, d = defects[i][0]  # start point, end point, farthest point, distance to farthest point\n",
    "    start = tuple(contour[s][0])\n",
    "    end = tuple(contour[e][0])\n",
    "    far = tuple(contour[f][0])\n",
    "    cv2.line(image, start, end, (0, 0, 255), 2)\n",
    "    cv2.circle(image, far, 5, (0, 255, 0), 2)\n",
    "\n",
    "plt.imshow(image)\n",
    "plt.show()\n",
    "\n",
    "# check for convexity\n",
    "# print cv2.isContourConvex(contour)\n",
    "# print cv2.isContourConvex(hull)"
   ]
  },
  {
   "cell_type": "code",
   "execution_count": null,
   "metadata": {},
   "outputs": [],
   "source": [
    "# shape matching\n",
    "image1 = cv2.imread('../resources/hand.jpg', cv2.IMREAD_GRAYSCALE)\n",
    "image2 = cv2.imread('../resources/hand2.jpg', cv2.IMREAD_GRAYSCALE)\n",
    "image3 = cv2.imread('../resources/hand3.jpeg', cv2.IMREAD_GRAYSCALE)\n",
    "\n",
    "min_width = min(image1.shape[0], min(image2.shape[0], image3.shape[0]))\n",
    "min_height = min(image1.shape[1], min(image2.shape[1], image3.shape[1]))\n",
    "\n",
    "image1 = cv2.resize(image1, (min_width, min_height))\n",
    "image2 = cv2.resize(image2, (min_width, min_height))\n",
    "image3 = cv2.resize(image3, (min_width, min_height))\n",
    "\n",
    "ret, thresh1 = cv2.threshold(image1, 230, 255, cv2.THRESH_BINARY_INV)\n",
    "ret, thresh2 = cv2.threshold(image2, 232, 255, cv2.THRESH_BINARY_INV)\n",
    "ret, thresh3 = cv2.threshold(image3, 245, 255, cv2.THRESH_BINARY_INV)\n",
    "\n",
    "fig = plt.figure()\n",
    "fig.set_size_inches(18, 10)\n",
    "fig.add_subplot(1, 3, 1)\n",
    "plt.imshow(thresh1, cmap='gray')\n",
    "fig.add_subplot(1, 3, 2)\n",
    "plt.imshow(thresh2, cmap='gray')\n",
    "fig.add_subplot(1, 3, 3)\n",
    "plt.imshow(thresh3, cmap='gray')\n",
    "plt.show()\n",
    "\n",
    "contours, hierarchy = cv2.findContours(thresh1, cv2.RETR_TREE, cv2.CHAIN_APPROX_SIMPLE)\n",
    "contour1 = contours[0]\n",
    "contours, hierarchy = cv2.findContours(thresh2, cv2.RETR_TREE, cv2.CHAIN_APPROX_SIMPLE)\n",
    "contour2 = contours[0]\n",
    "contours, hierarchy = cv2.findContours(thresh3, cv2.RETR_TREE, cv2.CHAIN_APPROX_SIMPLE)\n",
    "contour3 = max(contours, key=cv2.contourArea)\n",
    "\n",
    "cv2.drawContours(image1, [contour1], 0, 0, 2)\n",
    "cv2.drawContours(image2, [contour2], 0, 0, 2)\n",
    "cv2.drawContours(image3, [contour3], 0, 0, 2)\n",
    "\n",
    "print \"Distance between 1 & 2: \", cv2.matchShapes(contour1, contour2, 1, 0.0)\n",
    "print \"Distance between 1 & 3: \", cv2.matchShapes(contour1, contour3, 1, 0.0)\n",
    "print \"Distance between 2 & 3: \", cv2.matchShapes(contour2, contour3, 1, 0.0)"
   ]
  },
  {
   "cell_type": "markdown",
   "metadata": {},
   "source": [
    "### Hierarchy\n",
    "It's a representation of relationship between different contours within an image. Each countour can be a parent or can have child contours. Hierarchy returns a 4-value array for every contour [Next, Previous, First_Child, Parent].\n",
    "\n",
    "<b><u>Contour Retrieval Modes</u></b>\n",
    "1. <u>cv2.RETR_LIST</u> - All contours belong to same hierarchy level. Retrieves all the contours.\n",
    "2. <u>cv2.RETR_EXTERNAL</u> - All child contours are left behind. Retrieves the extreme outer contours(eldest contour in every level).\n",
    "3. <u>RETR_CCOMP</u> - Retrieves all contours, arranging them to a 2-level hierarchy. External contours of object are place in hierarchy-1 and contours of holes inside object in hieracrchy-2. If any object inside it, its contour is stored in hierarchy-1 and its hole in hierarchy-2 and so on.\n",
    "4. <u>RETR_TREE</u> - Retrieves all contours and creates a full family hierarchy list.\n",
    "\n",
    "<img src=\"../resources/hierarchy.png\">"
   ]
  },
  {
   "cell_type": "code",
   "execution_count": null,
   "metadata": {},
   "outputs": [],
   "source": [
    "image = cv2.imread(\"../resources/hierarchy.png\", cv2.IMREAD_GRAYSCALE)\n",
    "ret, image = cv2.threshold(image, 120, 255, cv2.THRESH_BINARY)\n",
    "\n",
    "image1 = np.copy(image)\n",
    "image2 = np.copy(image)\n",
    "image3 = np.copy(image)\n",
    "image4 = np.copy(image)\n",
    "\n",
    "contours, hierarchy1 = cv2.findContours(image1, cv2.RETR_LIST, cv2.CHAIN_APPROX_SIMPLE)\n",
    "contours, hierarchy2 = cv2.findContours(image1, cv2.RETR_EXTERNAL, cv2.CHAIN_APPROX_SIMPLE)\n",
    "contours, hierarchy3 = cv2.findContours(image1, cv2.RETR_CCOMP, cv2.CHAIN_APPROX_SIMPLE)\n",
    "contours, hierarchy4 = cv2.findContours(image1, cv2.RETR_TREE, cv2.CHAIN_APPROX_SIMPLE)\n",
    "\n",
    "print len(contours)\n",
    "print\n",
    "\n",
    "print hierarchy1\n",
    "print\n",
    "print hierarchy2\n",
    "print\n",
    "print hierarchy3\n",
    "print\n",
    "print hierarchy4"
   ]
  }
 ],
 "metadata": {
  "kernelspec": {
   "display_name": "Python 2",
   "language": "python",
   "name": "python2"
  },
  "language_info": {
   "codemirror_mode": {
    "name": "ipython",
    "version": 2
   },
   "file_extension": ".py",
   "mimetype": "text/x-python",
   "name": "python",
   "nbconvert_exporter": "python",
   "pygments_lexer": "ipython2",
   "version": "2.7.12"
  }
 },
 "nbformat": 4,
 "nbformat_minor": 2
}
