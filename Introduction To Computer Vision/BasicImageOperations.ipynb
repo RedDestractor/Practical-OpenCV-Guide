{
 "cells": [
  {
   "cell_type": "code",
   "execution_count": null,
   "metadata": {
    "collapsed": true,
    "slideshow": {
     "slide_type": "slide"
    }
   },
   "outputs": [],
   "source": [
    "import cv2\n",
    "import numpy as np\n",
    "from matplotlib import pyplot as plt"
   ]
  },
  {
   "cell_type": "markdown",
   "metadata": {
    "slideshow": {
     "slide_type": "fragment"
    }
   },
   "source": [
    "## Basic Image Operations"
   ]
  },
  {
   "cell_type": "code",
   "execution_count": null,
   "metadata": {
    "collapsed": true,
    "slideshow": {
     "slide_type": "fragment"
    }
   },
   "outputs": [],
   "source": [
    "image = cv2.imread(\"./resources/messi.jpg\")"
   ]
  },
  {
   "cell_type": "markdown",
   "metadata": {
    "slideshow": {
     "slide_type": "fragment"
    }
   },
   "source": [
    "### Switching Colorspace\n",
    "There are more than 150 colorspace conversion methods in OpenCV.\n",
    "\n",
    "We'll be focussing mainly on the following two conversions:\n",
    "1. BGR - Grayscale\n",
    "2. BGR - HSV"
   ]
  },
  {
   "cell_type": "code",
   "execution_count": null,
   "metadata": {
    "collapsed": true,
    "slideshow": {
     "slide_type": "slide"
    }
   },
   "outputs": [],
   "source": [
    "hsv_view = cv2.cvtColor(image, cv2.COLOR_BGR2HSV)\n",
    "gray_view = cv2.cvtColor(image, cv2.COLOR_BGR2GRAY)\n",
    "\n",
    "fig = plt.figure()\n",
    "fig.set_size_inches(18, 10)\n",
    "\n",
    "fig.add_subplot(1, 3, 1)\n",
    "plt.imshow(hsv_view)\n",
    "\n",
    "fig.add_subplot(1, 3, 2)\n",
    "plt.imshow(cv2.cvtColor(hsv_view, cv2.COLOR_HSV2RGB))\n",
    "\n",
    "fig.add_subplot(1, 3, 3)\n",
    "plt.imshow(gray_view, cmap='gray')\n",
    "\n",
    "plt.show()"
   ]
  },
  {
   "cell_type": "markdown",
   "metadata": {
    "slideshow": {
     "slide_type": "slide"
    }
   },
   "source": [
    "### Image Scaling\n",
    "Function: <b>cv2.resize(image, new_dimensions, interpolation)</b>\n",
    "\n",
    "Interpolation helps preserving the edges when resizing image. It tries to achieve a best approximation of a pixel's color and intensity based on the values at surrounding pixels when an image is resized.\n",
    "\n",
    "<u>Interpolation Methods</u>:\n",
    "1. <b>INTER_NEAREST</b> - a nearest-neighbor interpolation.\n",
    "2. <b>INTER_LINEAR</b> - a bilinear interpolation over 2x2 pixel neighborhood (used by default). Preferred for zooming.\n",
    "3. <b>INTER_AREA</b> - resampling using pixel area relation. Preferred for shrinking.\n",
    "4. <b>INTER_CUBIC</b> - a bicubic interpolation over 4x4 pixel neighborhood. Preferred for zooming. (slow)\n",
    "5. <b>INTER_LANCZOS4</b> - a Lanczos interpolation over 8x8 pixel neighborhood. (we won't be discussing this for now)"
   ]
  },
  {
   "cell_type": "markdown",
   "metadata": {
    "slideshow": {
     "slide_type": "slide"
    }
   },
   "source": [
    "<img src=\"./resources/inter_nearest.png\">\n",
    "<img src=\"./resources/interpolation.png\">"
   ]
  },
  {
   "cell_type": "code",
   "execution_count": null,
   "metadata": {
    "collapsed": true,
    "slideshow": {
     "slide_type": "slide"
    }
   },
   "outputs": [],
   "source": [
    "height, width = image.shape[0], image.shape[1]\n",
    "scaled_image = cv2.resize(image, (width//2, height//2), interpolation=cv2.INTER_AREA)\n",
    "\n",
    "fig = plt.figure()\n",
    "fig.set_size_inches(18, 10)\n",
    "\n",
    "fig.add_subplot(1, 2, 1)\n",
    "plt.imshow(cv2.cvtColor(image, cv2.COLOR_BGR2RGB))\n",
    "\n",
    "fig.add_subplot(1, 2, 2)\n",
    "plt.imshow(cv2.cvtColor(scaled_image, cv2.COLOR_BGR2RGB))\n",
    "\n",
    "plt.show()"
   ]
  },
  {
   "cell_type": "markdown",
   "metadata": {
    "slideshow": {
     "slide_type": "slide"
    }
   },
   "source": [
    "### Image Rotation"
   ]
  },
  {
   "cell_type": "code",
   "execution_count": null,
   "metadata": {
    "collapsed": true,
    "slideshow": {
     "slide_type": "fragment"
    }
   },
   "outputs": [],
   "source": [
    "# 2nd parameter is angle, 3rd parameter is scaling index\n",
    "matrix = cv2.getRotationMatrix2D((width/2, height/2), 90, 1)\n",
    "\n",
    "# Affine Transformation preserves collinearity and ratios of distances between collinear points.\n",
    "# In layman terms, all parallel lines in original image will also be parallel in output image after rotation\n",
    "rotated_image = cv2.warpAffine(image, matrix, (width, height))\n",
    "\n",
    "# cv2.warpPerspective => similar to warpAffine, but the distances between lines are not preserved.\n",
    "\n",
    "plt.imshow(cv2.cvtColor(rotated_image, cv2.COLOR_BGR2RGB))\n",
    "plt.show()"
   ]
  },
  {
   "cell_type": "markdown",
   "metadata": {
    "slideshow": {
     "slide_type": "slide"
    }
   },
   "source": [
    "### Flipping an image"
   ]
  },
  {
   "cell_type": "code",
   "execution_count": null,
   "metadata": {
    "collapsed": true,
    "slideshow": {
     "slide_type": "fragment"
    }
   },
   "outputs": [],
   "source": [
    "h_flip = cv2.flip(image, 1)  # horizontal flip\n",
    "v_flip = cv2.flip(image, 0)  # vertical flip\n",
    "hv_flip = cv2.flip(image, -1)  # simultaneous horizontal and vertical flip\n",
    "\n",
    "fig = plt.figure()\n",
    "fig.set_size_inches(18, 10)\n",
    "\n",
    "fig.add_subplot(1, 3, 1)\n",
    "plt.imshow(cv2.cvtColor(h_flip, cv2.COLOR_BGR2RGB))\n",
    "\n",
    "fig.add_subplot(1, 3, 2)\n",
    "plt.imshow(cv2.cvtColor(v_flip, cv2.COLOR_BGR2RGB))\n",
    "\n",
    "fig.add_subplot(1, 3, 3)\n",
    "plt.imshow(cv2.cvtColor(hv_flip, cv2.COLOR_BGR2RGB))\n",
    "\n",
    "plt.show()"
   ]
  },
  {
   "cell_type": "markdown",
   "metadata": {
    "slideshow": {
     "slide_type": "slide"
    }
   },
   "source": [
    "### Blending two images"
   ]
  },
  {
   "cell_type": "code",
   "execution_count": null,
   "metadata": {
    "collapsed": true,
    "slideshow": {
     "slide_type": "fragment"
    }
   },
   "outputs": [],
   "source": [
    "image2 = cv2.imread('./resources/lena.jpg')\n",
    "image2 = cv2.resize(image2, (image.shape[1], image.shape[0]), interpolation=cv2.INTER_AREA)\n",
    "\n",
    "blend = cv2.cvtColor(cv2.addWeighted(image, 0.5, image2, 0.5, 0), cv2.COLOR_BGR2RGB)\n",
    "\n",
    "plt.imshow(blend)\n",
    "plt.show()"
   ]
  },
  {
   "cell_type": "markdown",
   "metadata": {
    "collapsed": true,
    "slideshow": {
     "slide_type": "slide"
    }
   },
   "source": [
    "### Masking and Bitwise Operations\n",
    "Masking involves setting the pixel values in an image to zero, or some other \"background\" value.\n",
    "\n",
    "<u>Using an image as a mask</u> - A mask image is simply an image where some of the pixel intensity values are zero, and others are non-zero. Wherever the pixel intensity value is zero in the mask image, corresponding pixel intensity of the resulting masked image will be set to the background value (normally zero)."
   ]
  },
  {
   "cell_type": "code",
   "execution_count": null,
   "metadata": {
    "collapsed": true,
    "slideshow": {
     "slide_type": "subslide"
    }
   },
   "outputs": [],
   "source": [
    "# hsv values\n",
    "blue_lower = np.array([110,50,50])\n",
    "blue_upper = np.array([130,255,255])\n",
    "\n",
    "messi = image[50:335, 48:477]\n",
    "\n",
    "image_hsv = cv2.cvtColor(messi, cv2.COLOR_BGR2HSV)\n",
    "\n",
    "mask = cv2.inRange(image_hsv, blue_lower, blue_upper)\n",
    "result = cv2.bitwise_and(messi, messi, mask=mask)\n",
    "\n",
    "fig = plt.figure()\n",
    "fig.set_size_inches(18, 10)\n",
    "\n",
    "fig.add_subplot(1, 3, 1)\n",
    "plt.imshow(cv2.cvtColor(messi, cv2.COLOR_BGR2RGB))\n",
    "\n",
    "fig.add_subplot(1, 3, 2)\n",
    "plt.imshow(mask, cmap='gray')\n",
    "\n",
    "fig.add_subplot(1, 3, 3)\n",
    "plt.imshow(cv2.cvtColor(result, cv2.COLOR_BGR2RGB))\n",
    "\n",
    "plt.show()"
   ]
  }
 ],
 "metadata": {
  "kernelspec": {
   "display_name": "Python 2",
   "language": "python",
   "name": "python2"
  },
  "language_info": {
   "codemirror_mode": {
    "name": "ipython",
    "version": 2
   },
   "file_extension": ".py",
   "mimetype": "text/x-python",
   "name": "python",
   "nbconvert_exporter": "python",
   "pygments_lexer": "ipython2",
   "version": "2.7.12"
  }
 },
 "nbformat": 4,
 "nbformat_minor": 2
}
