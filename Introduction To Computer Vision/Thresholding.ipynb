{
 "cells": [
  {
   "cell_type": "code",
   "execution_count": null,
   "metadata": {
    "collapsed": true
   },
   "outputs": [],
   "source": [
    "import cv2\n",
    "import numpy as np\n",
    "from matplotlib import pyplot as plt\n",
    "\n",
    "image = cv2.imread('./resources/messi.jpg')"
   ]
  },
  {
   "cell_type": "markdown",
   "metadata": {},
   "source": [
    "## Thresholding\n",
    "A simple segmentation method used to separate out regions of an image corresponding to objects we want to analyze.\n",
    "### Simple Thresholding\n",
    "If a pxel value is greater than a threshold, it is assigned one value (maybe white), else  another value (maybe black).\n",
    "\n",
    "Function: <b>`cv2.threshold(image, threshold_value, max_value, thresholding_type)`</b>\n",
    "\n",
    "<u>Types of thresholding</u>:\n",
    "1. <b>cv2.THRESH_BINARY</b> - If pixel value above threshold, it is assigned max_value, else 0. (default flag)\n",
    "2. <b>cv2.THRESH_BINARY_INV</b> - Opposite of cv2.THRESH_BINARY. Pixel value above threshold is assigned 0 and vice-versa.\n",
    "3. <b>cv2.THRESH_TRUNC</b> - Pixel values above threshold are truncated to threshold value.\n",
    "4. <b>cv2.THRESH_TOZERO</b> - If pixel value above threshold, remains unchanges. Otherwise, set to 0.\n",
    "5. <b>cv2.THRESH_TOZERO_INV</b> - Opposite of cv2.THRESH_TOZERO. If pixel value is above threshold, will be set to 0."
   ]
  },
  {
   "cell_type": "code",
   "execution_count": null,
   "metadata": {
    "collapsed": true
   },
   "outputs": [],
   "source": [
    "gray = cv2.cvtColor(image, cv2.COLOR_BGR2GRAY)\n",
    "\n",
    "thresh1 = cv2.threshold(gray, 80, 255, cv2.THRESH_BINARY)[1]\n",
    "thresh2 = cv2.threshold(gray, 80, 255, cv2.THRESH_BINARY_INV)[1]\n",
    "thresh3 = cv2.threshold(gray, 80, 255, cv2.THRESH_TRUNC)[1]\n",
    "thresh4 = cv2.threshold(gray, 80, 255, cv2.THRESH_TOZERO)[1]\n",
    "thresh5 = cv2.threshold(gray, 80, 255, cv2.THRESH_TOZERO_INV)[1]\n",
    "\n",
    "titles = ['GRAY', 'TRUNC', 'BINARY', 'BINARY_INV', 'TOZERO', 'TOZERO_INV']\n",
    "plots = [gray, thresh3, thresh1, thresh2, thresh4, thresh5]\n",
    "\n",
    "fig = plt.figure()\n",
    "fig.set_size_inches(30, 30)\n",
    "\n",
    "for i in range(6):\n",
    "    fig.add_subplot(3, 2, i+1)\n",
    "    plt.imshow(plots[i], cmap='gray')\n",
    "    plt.title(titles[i])\n",
    "\n",
    "plt.show()"
   ]
  },
  {
   "cell_type": "markdown",
   "metadata": {},
   "source": [
    "### Adaptive Thresholding\n",
    "Rather than applying same threshold value across the image, threshold value at each pixel location is calculated depending on the neighbouring pixel intensities.\n",
    "\n",
    "Function: <b>`cv2.adaptiveThreshold(image, max_value, adaptive_method, threshold_type, block_size, C)`</b>\n",
    "\n",
    "<u>Adaptive Methods</u>:\n",
    "1. <b>cv2.ADAPTIVE_THRESH_MEAN_C</b> - threshold is mean of neighbourhood area\n",
    "2. <b>cv2.ADAPTIVE_THRESH_GAUSSIAN_C</b> - threshold is weighted sum of neighbourhood area\n",
    "\n",
    "<b>Block Size</b> - Size of neighbourhood area\n",
    "\n",
    "<b>C</b> - A constant subtracted from threshold calculated"
   ]
  },
  {
   "cell_type": "code",
   "execution_count": null,
   "metadata": {
    "collapsed": true
   },
   "outputs": [],
   "source": [
    "mean_thresh = cv2.adaptiveThreshold(gray, 255, cv2.ADAPTIVE_THRESH_MEAN_C, cv2.THRESH_BINARY, 9, 0)\n",
    "gaussian_thresh = cv2.adaptiveThreshold(gray, 255, cv2.ADAPTIVE_THRESH_GAUSSIAN_C, cv2.THRESH_BINARY, 9, 0)\n",
    "\n",
    "fig = plt.figure()\n",
    "fig.set_size_inches(18, 10)\n",
    "\n",
    "fig.add_subplot(1, 2, 1)\n",
    "plt.imshow(mean_thresh, cmap='gray')\n",
    "\n",
    "fig.add_subplot(1, 2, 2)\n",
    "plt.imshow(gaussian_thresh, cmap='gray')\n",
    "\n",
    "plt.show()"
   ]
  },
  {
   "cell_type": "markdown",
   "metadata": {},
   "source": [
    "### Otsu's Thresholding\n",
    "Automatically calculates threshold value from a bimodal image. (Accurate only for bimodal images)"
   ]
  },
  {
   "cell_type": "code",
   "execution_count": null,
   "metadata": {
    "collapsed": true
   },
   "outputs": [],
   "source": [
    "thresh_selected, otsu_thresh = cv2.threshold(gray, 0, 255, cv2.THRESH_BINARY + cv2.THRESH_OTSU)\n",
    "\n",
    "print \"Calculated threshold: %f\" % (thresh_selected)\n",
    "\n",
    "plt.imshow(otsu_thresh, cmap='gray')\n",
    "plt.show()"
   ]
  }
 ],
 "metadata": {
  "kernelspec": {
   "display_name": "Python 2",
   "language": "python",
   "name": "python2"
  },
  "language_info": {
   "codemirror_mode": {
    "name": "ipython",
    "version": 2
   },
   "file_extension": ".py",
   "mimetype": "text/x-python",
   "name": "python",
   "nbconvert_exporter": "python",
   "pygments_lexer": "ipython2",
   "version": "2.7.12"
  }
 },
 "nbformat": 4,
 "nbformat_minor": 2
}
