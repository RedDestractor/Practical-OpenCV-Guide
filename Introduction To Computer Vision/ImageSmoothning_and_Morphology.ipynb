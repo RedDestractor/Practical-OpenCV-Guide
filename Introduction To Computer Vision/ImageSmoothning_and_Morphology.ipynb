{
 "cells": [
  {
   "cell_type": "code",
   "execution_count": null,
   "metadata": {
    "collapsed": true
   },
   "outputs": [],
   "source": [
    "import cv2\n",
    "import numpy as np\n",
    "from matplotlib import pyplot as plt"
   ]
  },
  {
   "cell_type": "markdown",
   "metadata": {},
   "source": [
    "## Smoothing / Blurring\n",
    "Aim is to supress noise in image. It is done by convoluting a selected kernel(filter) with the image.\n",
    "\n",
    "### Averaging\n",
    "Here, kernel is a normalized box. It takes average of all pixels under kernel area and assigns this mean value to the central pixel.\n",
    "\n",
    "Functions: <b>cv2.blur(image, kernel_size)</b>, <b>cv2.boxFilter(image, depth, kernel_size)</b>"
   ]
  },
  {
   "cell_type": "code",
   "execution_count": null,
   "metadata": {
    "collapsed": true
   },
   "outputs": [],
   "source": [
    "image = cv2.imread('./resources/lena.jpg')\n",
    "\n",
    "blurred1 = cv2.blur(image, (5, 5))\n",
    "blurred2 = cv2.boxFilter(image, -1, (5, 5))  # -1 means same depth as source image\n",
    "\n",
    "fig = plt.figure()\n",
    "fig.set_size_inches(18, 10)\n",
    "\n",
    "fig.add_subplot(1, 3, 1)\n",
    "plt.imshow(cv2.cvtColor(image, cv2.COLOR_BGR2RGB))\n",
    "\n",
    "fig.add_subplot(1, 3, 2)\n",
    "plt.imshow(cv2.cvtColor(blurred1, cv2.COLOR_BGR2RGB))\n",
    "\n",
    "fig.add_subplot(1, 3, 3)\n",
    "plt.imshow(cv2.cvtColor(blurred2, cv2.COLOR_BGR2RGB))\n",
    "\n",
    "plt.show()"
   ]
  },
  {
   "cell_type": "markdown",
   "metadata": {},
   "source": [
    "### Gaussian Filtering\n",
    "It uses a gaussian kernel, and is highly efficient for gaussian noise (as the name suggests). It is most commonly used in edge detection.\n",
    "\n",
    "<img src=\"./resources/gauss.png\">\n",
    "\n",
    "Function: <b>cv2.GaussianBlur(image, kernel_size, sigmaX[, sigmaY])</b>"
   ]
  },
  {
   "cell_type": "code",
   "execution_count": null,
   "metadata": {
    "collapsed": true
   },
   "outputs": [],
   "source": [
    "gauss_blur = cv2.GaussianBlur(image, (9, 9), 3)\n",
    "\n",
    "fig = plt.figure()\n",
    "fig.set_size_inches(18, 10)\n",
    "\n",
    "fig.add_subplot(1, 2, 1)\n",
    "plt.imshow(cv2.cvtColor(image, cv2.COLOR_BGR2RGB))\n",
    "\n",
    "fig.add_subplot(1, 2, 2)\n",
    "plt.imshow(cv2.cvtColor(gauss_blur, cv2.COLOR_BGR2RGB))\n",
    "\n",
    "plt.show()"
   ]
  },
  {
   "cell_type": "markdown",
   "metadata": {},
   "source": [
    "### Median Filtering\n",
    "As the name suggests, it computes median of all the pixels under the kernel area and assigns this value to the central pixel. It is highly effective in remove salt and pepper noise. [* Each altered pixel value is some pixel from image itself, thus reducing noise very effectively]\n",
    "\n",
    "Function: <b>cv2.medianBlur(image, kernel_size)</b>"
   ]
  },
  {
   "cell_type": "code",
   "execution_count": null,
   "metadata": {
    "collapsed": true
   },
   "outputs": [],
   "source": [
    "extra_noise = cv2.imread('./resources/noise.jpg')\n",
    "\n",
    "median_blur = cv2.medianBlur(extra_noise, 5)\n",
    "\n",
    "fig = plt.figure()\n",
    "fig.set_size_inches(18, 10)\n",
    "\n",
    "fig.add_subplot(1, 2, 1)\n",
    "plt.imshow(cv2.cvtColor(extra_noise, cv2.COLOR_BGR2RGB))\n",
    "\n",
    "fig.add_subplot(1, 2, 2)\n",
    "plt.imshow(cv2.cvtColor(median_blur, cv2.COLOR_BGR2RGB))\n",
    "\n",
    "plt.show()"
   ]
  },
  {
   "cell_type": "markdown",
   "metadata": {},
   "source": [
    "### Bilateral Filtering\n",
    "Slow but effective in noise suppression without blurring edges. As the name suggests, it uses two filters (both gaussian), one in the space domain, and other as a pixel-intensity-difference function. Thus, in addition to normal gaussian filtering, it ensures that only those pixels with similar intensity to central pixel are included in the computation, and hence preserving edges from getting blurred.\n",
    "\n",
    "Function: <b>cv2.bilateralFilter(image, d, sigmaColor, sigmaSpace)</b> (keep sigma values between 10 and 150)\n",
    "- d - diameter of pixel neighbourhood used during filtering\n",
    "- sigmaColor - Filter sigma in color space\n",
    "- sigmaSpace - Filter sigma in coordinate space"
   ]
  },
  {
   "cell_type": "code",
   "execution_count": null,
   "metadata": {
    "collapsed": true
   },
   "outputs": [],
   "source": [
    "bi_blur = cv2.bilateralFilter(image, 9, 120, 100)\n",
    "\n",
    "fig = plt.figure()\n",
    "fig.set_size_inches(18, 10)\n",
    "\n",
    "fig.add_subplot(1, 2, 1)\n",
    "plt.imshow(cv2.cvtColor(gauss_blur, cv2.COLOR_BGR2RGB))\n",
    "\n",
    "fig.add_subplot(1, 2, 2)\n",
    "plt.imshow(cv2.cvtColor(bi_blur, cv2.COLOR_BGR2RGB))\n",
    "\n",
    "plt.show()"
   ]
  },
  {
   "cell_type": "markdown",
   "metadata": {},
   "source": [
    "## Morphological Transformations\n",
    "Binary images produced after thresholding, are distored by noise and texture. Morphology transformations are some simple operations based on image shape. Morphological operations rely on relative ordering of pixel values rather than their numerical values, and therefore are suitable for processing of binary images.\n",
    "\n",
    "In morphological transformation, we traverse an image with a structuring element (a small binary image, ie, a small matrix of pixels, each with value 0 or 1), and test various relations between the element and regions of image.\n",
    "\n",
    "We'll be discussing following types of Morphological Operators:\n",
    "1. Erosion\n",
    "2. Dilation\n",
    "3. Opening\n",
    "4. Closing\n",
    "5. Morphological Gradient"
   ]
  },
  {
   "cell_type": "code",
   "execution_count": null,
   "metadata": {
    "collapsed": true
   },
   "outputs": [],
   "source": [
    "# let's have a look at structuring elements first\n",
    "# 3 major structure elements - rectangle, ellipse, cross\n",
    "\n",
    "# Rectangular Kernel\n",
    "print \"rectangle\"\n",
    "print cv2.getStructuringElement(cv2.MORPH_RECT, (8, 10))\n",
    "print\n",
    "# Elliptical Kernel\n",
    "print \"ellipse\"\n",
    "print cv2.getStructuringElement(cv2.MORPH_ELLIPSE, (8, 10))\n",
    "print\n",
    "# Crossed Kernel\n",
    "print \"cross\"\n",
    "print cv2.getStructuringElement(cv2.MORPH_CROSS, (8, 10))\n",
    "print"
   ]
  },
  {
   "cell_type": "markdown",
   "metadata": {},
   "source": [
    "### Erosion\n",
    "Erodes away the boundaries of foreground object. As kernel is slided over image, central pixel is assigned 1 only if all pixels under kernel area are 1, otherwise 0. This dicreases the thickness of foreground object."
   ]
  },
  {
   "cell_type": "code",
   "execution_count": null,
   "metadata": {
    "collapsed": true
   },
   "outputs": [],
   "source": [
    "letter = cv2.imread('./resources/letter1.png', cv2.IMREAD_GRAYSCALE)\n",
    "kernel = cv2.getStructuringElement(cv2.MORPH_RECT, (5, 5))\n",
    "eroded = cv2.erode(letter, kernel, iterations=1)\n",
    "\n",
    "fig = plt.figure()\n",
    "fig.set_size_inches(18, 10)\n",
    "\n",
    "fig.add_subplot(1, 2, 1)\n",
    "plt.imshow(letter, cmap='gray')\n",
    "\n",
    "fig.add_subplot(1, 2, 2)\n",
    "plt.imshow(eroded, cmap='gray')\n",
    "\n",
    "plt.show()"
   ]
  },
  {
   "cell_type": "markdown",
   "metadata": {},
   "source": [
    "### Dilation\n",
    "It's opposite of erosion. Here, even if one pixel under kernel area is 1, the central pixel is assigned 1 as well. Hence, our foreground object is dilated."
   ]
  },
  {
   "cell_type": "code",
   "execution_count": null,
   "metadata": {
    "collapsed": true
   },
   "outputs": [],
   "source": [
    "dilated = cv2.dilate(letter, kernel, iterations=1)\n",
    "\n",
    "fig = plt.figure()\n",
    "fig.set_size_inches(18, 10)\n",
    "\n",
    "fig.add_subplot(1, 2, 1)\n",
    "plt.imshow(letter, cmap='gray')\n",
    "\n",
    "fig.add_subplot(1, 2, 2)\n",
    "plt.imshow(dilated, cmap='gray')\n",
    "\n",
    "plt.show()"
   ]
  },
  {
   "cell_type": "markdown",
   "metadata": {},
   "source": [
    "### Opening\n",
    "Erosion followed by dilation. Erosion removes white noises, and shrinks our foreground object, while dilation dilates our eroded object."
   ]
  },
  {
   "cell_type": "code",
   "execution_count": null,
   "metadata": {
    "collapsed": true
   },
   "outputs": [],
   "source": [
    "opening = cv2.morphologyEx(letter, cv2.MORPH_OPEN, kernel)\n",
    "\n",
    "fig = plt.figure()\n",
    "fig.set_size_inches(18, 10)\n",
    "\n",
    "fig.add_subplot(1, 2, 1)\n",
    "plt.imshow(letter, cmap='gray')\n",
    "\n",
    "fig.add_subplot(1, 2, 2)\n",
    "plt.imshow(opening, cmap='gray')\n",
    "\n",
    "plt.show()"
   ]
  },
  {
   "cell_type": "markdown",
   "metadata": {},
   "source": [
    "### Closing\n",
    "Dilation followed by Erosion. Used to fill holes in our foreground object."
   ]
  },
  {
   "cell_type": "code",
   "execution_count": null,
   "metadata": {
    "collapsed": true
   },
   "outputs": [],
   "source": [
    "letter = cv2.imread('./resources/letter2.png', cv2.IMREAD_GRAYSCALE)\n",
    "\n",
    "closing = cv2.morphologyEx(letter, cv2.MORPH_CLOSE, kernel)\n",
    "\n",
    "fig = plt.figure()\n",
    "fig.set_size_inches(18, 10)\n",
    "\n",
    "fig.add_subplot(1, 2, 1)\n",
    "plt.imshow(letter, cmap='gray')\n",
    "\n",
    "fig.add_subplot(1, 2, 2)\n",
    "plt.imshow(closing, cmap='gray')\n",
    "\n",
    "plt.show()"
   ]
  },
  {
   "cell_type": "markdown",
   "metadata": {},
   "source": [
    "### Morphological Gradient\n",
    "Difference between dilation and erosion. Gives us outline of the foreground object"
   ]
  },
  {
   "cell_type": "code",
   "execution_count": null,
   "metadata": {
    "collapsed": true
   },
   "outputs": [],
   "source": [
    "letter = cv2.imread('./resources/letter1.png', cv2.IMREAD_GRAYSCALE)\n",
    "\n",
    "outline = cv2.morphologyEx(letter, cv2.MORPH_GRADIENT, kernel)\n",
    "\n",
    "fig = plt.figure()\n",
    "fig.set_size_inches(18, 10)\n",
    "\n",
    "fig.add_subplot(1, 2, 1)\n",
    "plt.imshow(letter, cmap='gray')\n",
    "\n",
    "fig.add_subplot(1, 2, 2)\n",
    "plt.imshow(outline, cmap='gray')\n",
    "\n",
    "plt.show()"
   ]
  }
 ],
 "metadata": {
  "kernelspec": {
   "display_name": "Python 2",
   "language": "python",
   "name": "python2"
  },
  "language_info": {
   "codemirror_mode": {
    "name": "ipython",
    "version": 2
   },
   "file_extension": ".py",
   "mimetype": "text/x-python",
   "name": "python",
   "nbconvert_exporter": "python",
   "pygments_lexer": "ipython2",
   "version": "2.7.12"
  }
 },
 "nbformat": 4,
 "nbformat_minor": 2
}
