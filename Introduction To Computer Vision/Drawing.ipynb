{
 "cells": [
  {
   "cell_type": "code",
   "execution_count": null,
   "metadata": {
    "collapsed": true,
    "slideshow": {
     "slide_type": "slide"
    }
   },
   "outputs": [],
   "source": [
    "import cv2\n",
    "import numpy as np\n",
    "from matplotlib import pyplot as plt"
   ]
  },
  {
   "cell_type": "markdown",
   "metadata": {
    "slideshow": {
     "slide_type": "fragment"
    }
   },
   "source": [
    "## Drawing stuff on an image\n",
    "1. <b>line(image, point1, point2, color, thickness)</b>\n",
    "2. <b>rectangle(image, point1, point2, color, thickness)</b>\n",
    "3. <b>circle(image, centre, radius, color, thickness)</b>\n",
    "4. <b>ellipse(image, centre, axes, angle, start_angle, end_angle, color, thickness)</b>"
   ]
  },
  {
   "cell_type": "code",
   "execution_count": null,
   "metadata": {
    "collapsed": true,
    "slideshow": {
     "slide_type": "subslide"
    }
   },
   "outputs": [],
   "source": [
    "# Matplotlib uses RGB whereas CV uses BGR\n",
    "def inverted(image):\n",
    "    inv_image = np.zeros_like(image)\n",
    "    inv_image[:,:,0] = image[:,:,2]\n",
    "    inv_image[:,:,1] = image[:,:,1]\n",
    "    inv_image[:,:,2] = image[:,:,0]\n",
    "    return inv_image\n",
    "\n",
    "\n",
    "image = cv2.imread(\"./resources/messi.jpg\")\n",
    "\n",
    "# Draw a line\n",
    "cv2.line(image, (40, 40), (100, 200), (255, 0, 0), 2)\n",
    "\n",
    "# Draw a rectangle\n",
    "cv2.rectangle(image, (300, 300), (200, 250), (0, 0, 255), 3)\n",
    "\n",
    "# Draw a circle\n",
    "cv2.circle(image, (100, 200), 50, (0, 255, 0), 4)\n",
    "\n",
    "# Draw an ellipse\n",
    "cv2.ellipse(image, (300, 100), (100, 80), 45, 0, 360, (255, 255, 255), 5)\n",
    "\n",
    "plt.imshow(inverted(image))\n",
    "plt.show()"
   ]
  },
  {
   "cell_type": "code",
   "execution_count": null,
   "metadata": {
    "collapsed": true,
    "slideshow": {
     "slide_type": "slide"
    }
   },
   "outputs": [],
   "source": [
    "# Drawing a polygon\n",
    "\n",
    "image = cv2.imread(\"./resources/messi.jpg\")\n",
    "\n",
    "points = np.array([\n",
    "    [10,10],\n",
    "    [100, 200],\n",
    "    [200, 300],\n",
    "    [300, 200],\n",
    "    [300, 10]\n",
    "])\n",
    "\n",
    "cv2.polylines(image, [points], True, (0, 255, 0), 4)\n",
    "\n",
    "plt.imshow(inverted(image))\n",
    "plt.show()"
   ]
  },
  {
   "cell_type": "code",
   "execution_count": null,
   "metadata": {
    "collapsed": true,
    "slideshow": {
     "slide_type": "subslide"
    }
   },
   "outputs": [],
   "source": [
    "# Filling the polygon\n",
    "cv2.fillConvexPoly(image, points, (100, 100, 100))\n",
    "\n",
    "plt.imshow(inverted(image))\n",
    "plt.show()"
   ]
  },
  {
   "cell_type": "code",
   "execution_count": null,
   "metadata": {
    "collapsed": true,
    "slideshow": {
     "slide_type": "slide"
    }
   },
   "outputs": [],
   "source": [
    "# Filling multiple polygons\n",
    "image = cv2.imread(\"./resources/messi.jpg\")\n",
    "\n",
    "triangle = np.array([\n",
    "    [10, 10],\n",
    "    [10, 50],\n",
    "    [60, 10]\n",
    "])\n",
    "\n",
    "square = np.array([\n",
    "    [100, 100],\n",
    "    [100, 200],\n",
    "    [200, 200],\n",
    "    [200, 100]\n",
    "])\n",
    "\n",
    "cv2.fillPoly(image, [triangle, square], (200, 200, 0))\n",
    "\n",
    "# Writing text\n",
    "cv2.putText(image, \"MESSI\", (200, 50), cv2.FONT_HERSHEY_SIMPLEX, 2, (255, 255, 255), 3)\n",
    "\n",
    "plt.imshow(inverted(image))\n",
    "plt.show()"
   ]
  },
  {
   "cell_type": "markdown",
   "metadata": {
    "slideshow": {
     "slide_type": "slide"
    }
   },
   "source": [
    "## Sample code to draw on image with mouse clicks"
   ]
  },
  {
   "cell_type": "code",
   "execution_count": null,
   "metadata": {
    "collapsed": true,
    "slideshow": {
     "slide_type": "subslide"
    }
   },
   "outputs": [],
   "source": [
    "image = cv2.imread(\"./resources/messi.jpg\")\n",
    "\n",
    "# flags and params will not be used, they are passed by opencv itself, if any\n",
    "def mouse_click(event, x, y, flags, params):\n",
    "    if event == cv2.EVENT_LBUTTONDOWN:\n",
    "        cv2.circle(image, (x, y), 10, (200, 200, 0), 3)\n",
    "\n",
    "\n",
    "cv2.namedWindow('testing')\n",
    "cv2.setMouseCallback('testing', mouse_click)\n",
    "        \n",
    "while True:\n",
    "    cv2.imshow('testing', image)\n",
    "    k = cv2.waitKey(10) & 255\n",
    "    if k == 27:\n",
    "        cv2.destroyWindow('testing')\n",
    "        break\n",
    "\n",
    "plt.imshow(inverted(image))\n",
    "plt.show()"
   ]
  }
 ],
 "metadata": {
  "kernelspec": {
   "display_name": "Python 2",
   "language": "python",
   "name": "python2"
  },
  "language_info": {
   "codemirror_mode": {
    "name": "ipython",
    "version": 2
   },
   "file_extension": ".py",
   "mimetype": "text/x-python",
   "name": "python",
   "nbconvert_exporter": "python",
   "pygments_lexer": "ipython2",
   "version": "2.7.12"
  }
 },
 "nbformat": 4,
 "nbformat_minor": 2
}
