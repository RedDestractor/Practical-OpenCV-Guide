{
 "cells": [
  {
   "cell_type": "code",
   "execution_count": null,
   "metadata": {
    "collapsed": true
   },
   "outputs": [],
   "source": [
    "import cv2\n",
    "import numpy as np\n",
    "from matplotlib import pyplot as plt"
   ]
  },
  {
   "cell_type": "markdown",
   "metadata": {},
   "source": [
    "## Histograms\n",
    "Image histogram provides a plot for intensity distribution of an image, with pixel values (0-255) on x-axis, and corresponding number of pixels on y-axis.\n",
    "\n",
    "### Finding histogram of an image\n",
    "Function: <b>cv2.calcHist(images, channels, mask, histSize, ranges)</b>\n",
    "1. <b>images</b> - source image (datatype - uint8 or float32)\n",
    "2. <b>channels</b> - Channel for which histogram needs to be calculated\n",
    "3. <b>mask</b> - For finding histogram for a region of image, we have to create a mask. Otherwise \"None\".\n",
    "4. <b>histSize</b> - Count of intervals for finding pixel values.\n",
    "5. <b>ranges</b> - Range of intensity values to be measured."
   ]
  },
  {
   "cell_type": "code",
   "execution_count": null,
   "metadata": {
    "collapsed": true
   },
   "outputs": [],
   "source": [
    "image = cv2.imread('../resources/messi.jpg')\n",
    "\n",
    "colors = ['blue', 'green', 'red']\n",
    "\n",
    "fig = plt.figure()\n",
    "fig.set_size_inches(18, 5)\n",
    "\n",
    "for i in range(len(colors)):\n",
    "    histogram = cv2.calcHist([image], [i], None, [256], [0,256])\n",
    "    fig.add_subplot(1, 1, 1)\n",
    "    plt.plot(histogram, color=colors[i])\n",
    "    plt.xlim([0, 256])\n",
    "\n",
    "plt.show()"
   ]
  },
  {
   "cell_type": "markdown",
   "metadata": {},
   "source": [
    "### Histogram Equalisation\n",
    "Application - Enhancing contrast of an image\n",
    "\n",
    "Function: <b>cv2.equalizeHist(image)</b>"
   ]
  },
  {
   "cell_type": "code",
   "execution_count": null,
   "metadata": {
    "collapsed": true
   },
   "outputs": [],
   "source": [
    "# Contrasting grayscale image\n",
    "gray_scene = cv2.imread('../resources/scene_gray.png', cv2.IMREAD_GRAYSCALE)\n",
    "histogram = cv2.equalizeHist(gray_scene)\n",
    "\n",
    "fig = plt.figure()\n",
    "fig.set_size_inches(18, 10)\n",
    "\n",
    "fig.add_subplot(1, 2, 1)\n",
    "plt.imshow(gray_scene, cmap='gray')\n",
    "\n",
    "fig.add_subplot(1, 2, 2)\n",
    "plt.imshow(histogram, cmap='gray')\n",
    "\n",
    "plt.show()"
   ]
  },
  {
   "cell_type": "code",
   "execution_count": null,
   "metadata": {
    "collapsed": true
   },
   "outputs": [],
   "source": [
    "# Contrasting color image\n",
    "# Concept of histogram equalization is applicable to intensity values only.\n",
    "# So we convert BGR to YUV colorspace, separating color information from intensity.\n",
    "scene = cv2.imread('../resources/scene.png')\n",
    "yuv_scene = cv2.cvtColor(scene, cv2.COLOR_BGR2YUV)\n",
    "\n",
    "y_channel = yuv_scene[:, :, 0]\n",
    "y_channel_equalized = cv2.equalizeHist(y_channel)\n",
    "yuv_scene[:, :, 0] = y_channel_equalized\n",
    "\n",
    "contrasted_scene = cv2.cvtColor(yuv_scene, cv2.COLOR_YUV2BGR)\n",
    "\n",
    "fig = plt.figure()\n",
    "fig.set_size_inches(18, 10)\n",
    "\n",
    "fig.add_subplot(1, 2, 1)\n",
    "plt.imshow(cv2.cvtColor(scene, cv2.COLOR_BGR2RGB))\n",
    "\n",
    "fig.add_subplot(1, 2, 2)\n",
    "plt.imshow(cv2.cvtColor(contrasted_scene, cv2.COLOR_BGR2RGB))\n",
    "\n",
    "plt.show()"
   ]
  },
  {
   "cell_type": "markdown",
   "metadata": {},
   "source": [
    "### CLAHE (Contrast Limited Adaptive Histogram Equalization)\n",
    "Equalizing the historgram across whole image might not be useful sometimes. Small objects in the image might lose information, due to over or under contrasting. In this case, adaptive histogram equalization is used.\n",
    "\n",
    "In CLAHE, image is divided into small blocks (8x8 by default), and these blocks are histogram equalized rather than whole image once.\n",
    "\n",
    "To avoid amplification of noise, contrast limit (40 by default) is applied. If any histogram bin is above contrast limit, it is clipped and distributed among other bins, and then histogram is equalized.\n",
    "\n",
    "Tile boundary pixels, corner pixels and edge pixels might be transformed more than one time, thus giving multiple values for the same pixel. For simplicity and computational efficiency, certain interpolation methods are used to calculate the pixel value from the multiple obtained values."
   ]
  },
  {
   "cell_type": "code",
   "execution_count": null,
   "metadata": {
    "collapsed": true
   },
   "outputs": [],
   "source": [
    "statue = cv2.imread('../resources/statue.jpg', cv2.IMREAD_GRAYSCALE)\n",
    "\n",
    "normal_equalized_hist = cv2.equalizeHist(statue)\n",
    "\n",
    "clahe = cv2.createCLAHE()\n",
    "clahe_equalized_hist = clahe.apply(statue)\n",
    "\n",
    "fig = plt.figure()\n",
    "fig.set_size_inches(18, 10)\n",
    "\n",
    "fig.add_subplot(1, 3, 1)\n",
    "plt.imshow(statue, cmap='gray')\n",
    "\n",
    "fig.add_subplot(1, 3, 2)\n",
    "plt.imshow(normal_equalized_hist, cmap='gray')\n",
    "\n",
    "fig.add_subplot(1, 3, 3)\n",
    "plt.imshow(clahe_equalized_hist, cmap='gray')\n",
    "\n",
    "plt.show()"
   ]
  },
  {
   "cell_type": "markdown",
   "metadata": {},
   "source": [
    "### Histogram Backprojection Example\n",
    "We'll be finding the football in the picture below.\n",
    "<img src=\"../resources/messi.jpg\">\n",
    "Our goal is to create an output image where each pixel corresponds to probability of pixel belonging to the object."
   ]
  },
  {
   "cell_type": "code",
   "execution_count": null,
   "metadata": {
    "collapsed": true
   },
   "outputs": [],
   "source": [
    "target = image\n",
    "hsv_target = cv2.cvtColor(target, cv2.COLOR_BGR2HSV)\n",
    "\n",
    "football = target[290:335, 338:387]\n",
    "hsv_obj = cv2.cvtColor(football, cv2.COLOR_BGR2HSV)\n",
    "\n",
    "obj_hist = cv2.calcHist([hsv_obj], [0, 1], None, [40, 256], [0, 40, 0 ,256])\n",
    "\n",
    "cv2.normalize(obj_hist, obj_hist, 0, 255, cv2.NORM_MINMAX)\n",
    "result = cv2.calcBackProject([hsv_target], [0, 1], obj_hist, [0, 40, 0, 256], 1)\n",
    "\n",
    "plt.imshow(result, cmap='gray')\n",
    "plt.show()"
   ]
  }
 ],
 "metadata": {
  "kernelspec": {
   "display_name": "Python 2",
   "language": "python",
   "name": "python2"
  },
  "language_info": {
   "codemirror_mode": {
    "name": "ipython",
    "version": 2
   },
   "file_extension": ".py",
   "mimetype": "text/x-python",
   "name": "python",
   "nbconvert_exporter": "python",
   "pygments_lexer": "ipython2",
   "version": "2.7.12"
  }
 },
 "nbformat": 4,
 "nbformat_minor": 2
}
